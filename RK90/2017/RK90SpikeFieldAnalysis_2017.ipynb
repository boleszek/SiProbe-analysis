{
 "cells": [
  {
   "cell_type": "code",
   "execution_count": 1,
   "metadata": {
    "collapsed": true
   },
   "outputs": [],
   "source": [
    "import numpy as np\n",
    "import matplotlib.pyplot as plt\n",
    "%matplotlib inline\n",
    "from scipy.signal import butter, hilbert, filtfilt, freqz\n",
    "import random\n",
    "import sys\n",
    "sys.path.append('/Volumes/kaylab/Code.Repository/Python/')\n",
    "\n",
    "import OpenEphys\n",
    "\n",
    "sf = 30000\n",
    "\n",
    "ddir = '/Volumes/kaylab/DataStores/Data/BO/SiProbe/' # data directory\n",
    "\n",
    "# choose data folder where files are stored\n",
    "dfold = 'RK90_2016-09-11_raw_30k_30pres_EMB'\n",
    "#clust1 = [2,3,4,5,6,7,8] # clusters 7&8 are both CH2 spikes\n",
    "#clust2 = [2,3,4,5,6,7]\n",
    "#clust_names = ['sh1 - multi','sh1 - multi','sh1 - multi','sh1 - CH0','sh1 - CH8',\n",
    "#              'sh1 - CH2','sh1 - CH2','sh2 - multi','sh2 - multi','sh2 - CH8',\n",
    "#              'sh2 - multi','sh2 - multi','sh2 - multi']\n",
    "\n",
    "\n",
    "# number of odor presentations\n",
    "nop = 30\n",
    "# save figures?\n",
    "sflag = 0;"
   ]
  },
  {
   "cell_type": "code",
   "execution_count": 2,
   "metadata": {
    "collapsed": true
   },
   "outputs": [],
   "source": [
    "# load LFP data\n",
    "filepath = ddir + dfold + '/' + dfold + '_LFP.dat'\n",
    "ssLFP = np.fromfile(filepath, dtype='float') #subsampled LFP\n",
    "sssf = 3000 # subsampled frequency\n",
    "# NOTE!!! Downsampling not only saves space, but is also necessary to construct filters that \n",
    "# operate in the beta range"
   ]
  },
  {
   "cell_type": "code",
   "execution_count": null,
   "metadata": {
    "collapsed": true
   },
   "outputs": [],
   "source": [
    "# Load events, extract odor periods\n",
    "eventsname = 'all_channels.events'\n",
    "filepath = ddir + dfold + '/' + eventsname\n",
    "Events = OpenEphys.loadEvents(filepath)\n",
    "odor_periods = Events['timestamps']-Events['timestamps'][0]\n",
    "odor_periods = odor_periods[2:]\n",
    "# For some odd reason the TTL pulses will sometimes duplicate a few miliseconds after eachother\n",
    "# Smooth over the duplicates by binning time in 0.3s bins\n",
    "dl = 10*np.squeeze(ssLFP.shape) # data length\n",
    "a,b = np.histogram(odor_periods,np.arange(0,dl,0.3*sf))\n",
    "b = b[1:] # The first edge is 0 so we skip it\n",
    "odor_periods = b[a>0] # index where bin count is > 1\n",
    "# For some reason the last TTL OFF is not saved, so I add one 3s after the last ON\n",
    "odor_periods = np.hstack((odor_periods,odor_periods[-1]+3*sf))"
   ]
  },
  {
   "cell_type": "code",
   "execution_count": 8,
   "metadata": {
    "collapsed": false
   },
   "outputs": [],
   "source": [
    "def load_spikes_from_kwik(dfile, clust_choice, use_clust_choice):\n",
    "    '''\n",
    "    Inputs : dfile        - file directory (including filename)\n",
    "             clust_choice - list of cluster labels you want to extract\n",
    "        \n",
    "    Outputs: SPK          - list of spike times for each cluster\n",
    "    '''\n",
    "    import h5py\n",
    "    with h5py.File(dfile,'r') as D:\n",
    "        # for viewing contents of folders\n",
    "        # dv=D['/channel_groups/0/spikes/time_samples']\n",
    "        # for i in iter(dv):\n",
    "            # print(i)\n",
    "        time_samples = D.get('/channel_groups/0/spikes/time_samples')\n",
    "        np_time_samples = np.array(time_samples)\n",
    "        cluster_labels = D.get('/channel_groups/0/spikes/clusters/main')\n",
    "        np_cluster_labels = np.array(cluster_labels)\n",
    "        \n",
    "    SPK = []\n",
    "    if use_clust_choice == 1:\n",
    "        for i in range(len(clust_choice)):\n",
    "            temp_ind = np.squeeze(np.array(np.where(np_cluster_labels == clust_choice[i])))\n",
    "            SPK.append(np_time_samples[temp_ind])\n",
    "    else:\n",
    "        for i in range(len(np_cluster_labels)):\n",
    "            temp_ind = np.squeeze(np.array(np.where(np_cluster_labels == np_cluster_labels[i])))\n",
    "            SPK.append(np_time_samples[temp_ind])\n",
    "    return SPK\n",
    "\n",
    "\n",
    "# load spike times of each cluster for both shanks\n",
    "dfile1 = ddir + dfold + '/2017/shank1CMR/' + dfold + '_shank1CMR' + '.kwik'\n",
    "SPK1 = load_spikes_from_kwik(dfile1, [], 0)\n",
    "    \n",
    "dfile2 = ddir + dfold + '/2017/shank2CMR/' + dfold + '_shank2CMR' + '.kwik'\n",
    "SPK2 = load_spikes_from_kwik(dfile2, [], 0)\n",
    "\n",
    "#SPK = SPK1+SPK2\n",
    "# Spike times from both are saved in a single list SPK!"
   ]
  },
  {
   "cell_type": "code",
   "execution_count": null,
   "metadata": {
    "collapsed": true
   },
   "outputs": [],
   "source": [
    "# Get cluster labels\n",
    "import h5py\n",
    "with h5py.File(dfile1,'r') as D:\n",
    "    dv=D['/channel_groups/0/clusters/original']\n",
    "    for i in iter(dv):\n",
    "        print(i)\n"
   ]
  },
  {
   "cell_type": "code",
   "execution_count": null,
   "metadata": {
    "collapsed": true
   },
   "outputs": [],
   "source": [
    "# SpikeStats\n",
    "\n",
    "\n",
    "# Plot ISI distributions\n",
    "sflag = 1\n",
    "\n",
    "# shank1\n",
    "nbins = 50\n",
    "plt.figure(figsize=(28,2))\n",
    "for i in range(len(clust1)):\n",
    "    ISI_temp = 1000*(SPK[i][1:]-SPK[i][0:-1])/sf\n",
    "    plt.subplot(1,len(clust1),i+1)\n",
    "    ISI_temp = ISI_temp[ISI_temp != 0] # remove 0s (there shouldn't be any)\n",
    "    plt.hist(ISI_temp, bins=np.logspace(-1,4,nbins), edgecolor = 'none')\n",
    "    plt.gca().set_xscale('log')\n",
    "    plt.title(clust_names[i]+'\\n'+str(len(SPK[i]))+' spikes')\n",
    "    plt.xlabel('ms')\n",
    "    if i == 0:\n",
    "        plt.ylabel('Count')\n",
    "if sflag == 1:\n",
    "    plt.savefig('figs/'+dfold+'_ISI1.png', bbox_inches='tight')\n",
    "        \n",
    "# shank2\n",
    "nbins = 50\n",
    "plt.figure(figsize=(20,2))\n",
    "for i in range(len(clust2)):\n",
    "    ISI_temp = 1000*(SPK[i+len(clust1)][1:]-SPK[i+len(clust1)][0:-1])/sf\n",
    "    plt.subplot(1,len(clust2),i+1)\n",
    "    ISI_temp = ISI_temp[ISI_temp != 0] # remove 0s (there shouldn't be any)\n",
    "    plt.hist(ISI_temp, bins=np.logspace(-1,4,nbins), edgecolor = 'none')\n",
    "    plt.gca().set_xscale('log')\n",
    "    plt.title(clust_names[i+len(clust1)]+'\\n'+str(len(SPK[i+len(clust1)]))+' spikes')\n",
    "    plt.xlabel('ms')\n",
    "    if i == 0:\n",
    "        plt.ylabel('Count')\n",
    "if sflag == 1:\n",
    "    plt.savefig('figs/'+dfold+'_ISI2.png', bbox_inches='tight')    \n",
    "# log(x) = 10 for x~20000 (20s)"
   ]
  },
  {
   "cell_type": "code",
   "execution_count": null,
   "metadata": {
    "collapsed": true
   },
   "outputs": [],
   "source": [
    "# Extract LFP in odor periods\n",
    "start = odor_periods[0::2] - sf # add 1s to each end of odor period\n",
    "stop = odor_periods[1::2] + sf\n",
    "\n",
    "ssLFP_op = list()\n",
    "SPK_op = list()\n",
    "op_num_spk = np.zeros(len(SPK))\n",
    "\n",
    "for i in range(nop):\n",
    "    # remember, LFP is subsampled by 10\n",
    "    ssLFP_op.append(ssLFP[start[i]/10:stop[i]/10])\n",
    "    SPKtmp = list()\n",
    "    op_num_spk_temp = np.zeros(len(SPK))\n",
    "    for s in range(len(SPK)):\n",
    "        # find spk times in odor periods. Don't save spikes within 10 smaples of the stop\n",
    "        # to avoid later indexing issues when indexing last element of subsampled array\n",
    "        sind = np.array(np.where((SPK[s] > start[i]) & (SPK[s] < (stop[i]-10))))\n",
    "        sind = sind.astype(int) # convert type to int\n",
    "        SPKtmp.append(SPK[s][sind]-start[i]) # subtract away start time of odor period\n",
    "        op_num_spk_temp[s] = sind.size\n",
    "    SPK_op.append(SPKtmp)\n",
    "    op_num_spk = op_num_spk+op_num_spk_temp # total # of spikes in odor periods\n",
    "    \n"
   ]
  },
  {
   "cell_type": "code",
   "execution_count": null,
   "metadata": {
    "collapsed": true
   },
   "outputs": [],
   "source": [
    "# Plot odor periods, LFP, and spikes for entire session\n",
    "includeHP = 0\n",
    "sflag = 0\n",
    "sstime = np.linspace(0,ssLFP.size/sssf,ssLFP.size) # subsampled time\n",
    "\n",
    "x1 = 0\n",
    "x2 = 20\n",
    "plt.figure(figsize=(16,10))\n",
    "plt.eventplot(odor_periods/sf, orientation='horizontal', lineoffsets=300, linelengths=200, \n",
    "              linewidths=2, colors='k', linestyles='solid', hold=None, data=None)\n",
    "plt.text(x2+0.01*(x2-x1),300,'odor periods')\n",
    "plt.plot(sstime,0.1*ssLFP,color = 'b')\n",
    "plt.text(x2+0.01*(x2-x1),0,'LFP',color = 'b')\n",
    "if includeHP == 1:\n",
    "    plt.plot(np.linspace(0,CONT1.size/sf,CONT1.size),0.3*CONT1-250,color = 'k')\n",
    "    plt.text(x2+0.01*(x2-x1),-250,'sh1 - highpass',color = 'k')\n",
    "    plt.plot(np.linspace(0,CONT2.size/sf,CONT2.size),0.3*CONT2-350,color = 'k')\n",
    "    plt.text(x2+0.01*(x2-x1),-350,'sh2 - highpass',color = 'k')\n",
    "for i in range(len(SPK)-1):\n",
    "    plt.eventplot(SPK[i]/sf, orientation='horizontal', lineoffsets=-500-i*50, linelengths=40, \n",
    "              linewidths=1, colors='k', linestyles='solid', hold=None, data=None,label = 'TTL')\n",
    "    plt.text(x2+0.01*(x2-x1),-500-i*50,clust_names[i])\n",
    "plt.xlim([x1,x2]),plt.xlabel('Time (s)')\n",
    "if sflag == 1:\n",
    "    plt.savefig('figs/'+dfold+'_OP-LFP-HP-SPK_1st20s.png', bbox_inches='tight')\n",
    "    # plt.savefig('figs/'+dfold+'_beta-epochs3.png', bbox_inches='tight')\n",
    "    # plt.savefig('figs/'+dfold+'_PeriodicBurst2_zoom.png', bbox_inches='tight')\n",
    "    # plt.savefig('figs/'+dfold+'_GammaLeak?.png', bbox_inches='tight')\n"
   ]
  },
  {
   "cell_type": "code",
   "execution_count": 14,
   "metadata": {
    "collapsed": false
   },
   "outputs": [],
   "source": [
    "import h5py\n",
    "with h5py.File(dfile1,'r') as D:\n",
    "    # for viewing contents of folders\n",
    "    # dv=D['/channel_groups/0/spikes/time_samples']\n",
    "    # for i in iter(dv):\n",
    "        # print(i)\n",
    "    time_samples = D.get('/channel_groups/0/spikes/time_samples')\n",
    "    np_time_samples = np.array(time_samples)\n",
    "    cluster_labels = D.get('/channel_groups/0/spikes/clusters/main')\n",
    "    np_cluster_labels = np.array(cluster_labels)"
   ]
  },
  {
   "cell_type": "code",
   "execution_count": 29,
   "metadata": {
    "collapsed": false
   },
   "outputs": [
    {
     "name": "stdout",
     "output_type": "stream",
     "text": [
      "0\n",
      "1\n",
      "10\n",
      "11\n",
      "12\n",
      "13\n",
      "14\n",
      "15\n",
      "2\n",
      "3\n",
      "4\n",
      "5\n",
      "6\n",
      "7\n",
      "8\n",
      "9\n"
     ]
    }
   ],
   "source": [
    "with h5py.File(dfile1,'r') as D:\n",
    "    dv=D['/channel_groups/0/channels']\n",
    "    for i in iter(dv):\n",
    "        print(i)"
   ]
  },
  {
   "cell_type": "code",
   "execution_count": null,
   "metadata": {
    "collapsed": true
   },
   "outputs": [],
   "source": []
  }
 ],
 "metadata": {
  "kernelspec": {
   "display_name": "Python 3",
   "language": "python",
   "name": "python3"
  },
  "language_info": {
   "codemirror_mode": {
    "name": "ipython",
    "version": 3
   },
   "file_extension": ".py",
   "mimetype": "text/x-python",
   "name": "python",
   "nbconvert_exporter": "python",
   "pygments_lexer": "ipython3",
   "version": "3.5.2"
  }
 },
 "nbformat": 4,
 "nbformat_minor": 0
}
