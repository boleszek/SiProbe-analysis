{
 "cells": [
  {
   "cell_type": "code",
   "execution_count": 1,
   "metadata": {
    "collapsed": true
   },
   "outputs": [],
   "source": [
    "import numpy as np\n",
    "import matplotlib.pyplot as plt\n",
    "%matplotlib inline\n",
    "from scipy.signal import butter, hilbert, filtfilt, freqz\n",
    "import random\n",
    "import sys\n",
    "sys.path.append('/Volumes/kaylab/Code.Repository/Python/')\n",
    "\n",
    "import OpenEphys\n",
    "\n",
    "sf = 30000\n",
    "\n",
    "ddir = '/Volumes/kaylab/DataStores/Data/BO/SiProbe/' # data directory\n",
    "\n",
    "\n",
    "# number of passive odor presentations\n",
    "nop = 20\n",
    "# save figures?\n",
    "sflag = 0;\n",
    "\n",
    "odor_names = ['Thymol','2-heptanone','Camphor','D-limonene']\n",
    "# 1st two show 2DG maxima in central dorsal region, last two have more lateral / ventral maps"
   ]
  },
  {
   "cell_type": "code",
   "execution_count": 3,
   "metadata": {
    "collapsed": false
   },
   "outputs": [],
   "source": [
    "ACTIVE_LABELS = {}\n",
    "ACTIVE_LABELS[odor_names[0]] = {}\n",
    "ACTIVE_LABELS[odor_names[0]]['dfold'] = 'RK90_2016-11-12_raw_30k_Thym_active'\n",
    "ACTIVE_LABELS[odor_names[0]]['clust1'] = [2,3,4,5,6,7]\n",
    "ACTIVE_LABELS[odor_names[0]]['clust2'] = [2,3,4,5,6,7]\n",
    "ACTIVE_LABELS[odor_names[0]]['clust_names'] = ['sh1 - CH8neg','sh1 - CH6pos','sh1 - multi','sh1 - CH14neg','sh1 - CH14neg','sh1 - multi',\n",
    "              'sh2 - CH1neg','sh2 - multi','sh2 - CH3neg','sh2 - multi','sh2 - CH1neg','sh2 - CH5neg']\n",
    "\n",
    "ACTIVE_LABELS[odor_names[1]] = {}\n",
    "ACTIVE_LABELS[odor_names[1]]['dfold'] = 'RK90_2016-11-12_raw_30k_Hept_active'\n",
    "ACTIVE_LABELS[odor_names[1]]['clust1'] = [2,3,4,5,6]\n",
    "ACTIVE_LABELS[odor_names[1]]['clust2'] = [2,3,4,5]\n",
    "ACTIVE_LABELS[odor_names[1]]['clust_names'] = ['sh1 - CH8neg','sh1 - multi','sh1 - CH14neg','sh1 - CH6pos','sh1 - multi',\n",
    "              'sh2 - multi','sh2 - multi','sh2 - CH1neg','sh2 - CH3neg']\n",
    "\n",
    "ACTIVE_LABELS[odor_names[2]] = {}\n",
    "ACTIVE_LABELS[odor_names[2]]['dfold'] = 'RK90_2016-11-12_raw_30k_Camph_active'\n",
    "ACTIVE_LABELS[odor_names[2]]['clust1'] = [2,3,4,5]\n",
    "ACTIVE_LABELS[odor_names[2]]['clust2'] = [2,3,4,5,6,7]\n",
    "ACTIVE_LABELS[odor_names[2]]['clust_names'] = ['sh1 - multi','sh1 - CH8neg','sh1 - CH6pos','sh1 - multi','sh2 - multi',\n",
    "              'sh2 - CH1neg','sh2 - multi','sh2 - CH3neg','sh2 - multi','sh2 - multi']\n",
    "\n",
    "ACTIVE_LABELS[odor_names[3]] = {}\n",
    "ACTIVE_LABELS[odor_names[3]]['dfold'] = 'RK90_2016-11-12_raw_30k_Lim_active'\n",
    "ACTIVE_LABELS[odor_names[3]]['clust1'] = [2,3,4,5]\n",
    "ACTIVE_LABELS[odor_names[3]]['clust2'] = [2,3,4,5,6,7]\n",
    "ACTIVE_LABELS[odor_names[3]]['clust_names'] = ['sh1 - multi','sh1 - CH8neg','sh1 - CH6pos','sh1 - CH2neg',\n",
    "              'sh2 - multi','sh2 - CH3neg','sh2 - multi','sh2 - CH1neg','sh2 - CH1neg','sh2 - CH5neg']\n",
    "\n",
    "\n",
    "\n",
    "PASSIVE_LABELS = {}\n",
    "PASSIVE_LABELS[odor_names[0]] = {}\n",
    "PASSIVE_LABELS[odor_names[0]]['dfold'] = 'RK90_2016-11-12_raw_30k_Thym_passive20'\n",
    "PASSIVE_LABELS[odor_names[0]]['clust1'] = [2,3,4,5,6,7]\n",
    "PASSIVE_LABELS[odor_names[0]]['clust2'] = [2,3,4,5,6,7,8]\n",
    "PASSIVE_LABELS[odor_names[0]]['clust_names'] = ['sh1 - CH14neg','sh1 - CH8neg','sh1 - multi','sh1 - CH6neg','sh1 - CH12neg','sh1 - multi',\n",
    "              'sh2 - multi','sh2 - multi','sh2 - CH3neg','sh2 - CH3neg','sh2 - CH1neg','sh2 - multi','sh2 - multi']\n",
    "# CH3neg should be merged\n",
    "\n",
    "PASSIVE_LABELS[odor_names[1]] = {}\n",
    "PASSIVE_LABELS[odor_names[1]]['dfold'] = 'RK90_2016-11-12_raw_30k_Hept_passive20'\n",
    "PASSIVE_LABELS[odor_names[1]]['clust1'] = [2,3,4,5,6]\n",
    "PASSIVE_LABELS[odor_names[1]]['clust2'] = [2,3,4]\n",
    "PASSIVE_LABELS[odor_names[1]]['clust_names'] = ['sh1 - multi','sh1 - CH8neg','sh1 - multi','sh1 - CH6pos','sh1 - multi',\n",
    "              'sh2 - multi','sh2 - multi','sh2 - CH1neg']\n",
    "\n",
    "PASSIVE_LABELS[odor_names[2]] = {}\n",
    "PASSIVE_LABELS[odor_names[2]]['dfold'] = 'RK90_2016-11-12_raw_30k_Camph_passive20'\n",
    "PASSIVE_LABELS[odor_names[2]]['clust1'] = [2,3,4,5,6]\n",
    "PASSIVE_LABELS[odor_names[2]]['clust2'] = [2,3,4]\n",
    "PASSIVE_LABELS[odor_names[2]]['clust_names'] = ['sh1 - multi','sh1 - CH6pos','sh1 - CH8neg','sh1 - CH14neg','sh1 - multi',\n",
    "              'sh2 - multi','sh2 - multi','sh2 - CH1neg']\n",
    "              \n",
    "PASSIVE_LABELS[odor_names[3]] = {}\n",
    "PASSIVE_LABELS[odor_names[3]]['dfold'] = 'RK90_2016-11-12_raw_30k_Lim_passive20'\n",
    "PASSIVE_LABELS[odor_names[3]]['clust1'] = [2,3,4,5]\n",
    "PASSIVE_LABELS[odor_names[3]]['clust2'] = [2,3,4]\n",
    "PASSIVE_LABELS[odor_names[3]]['clust_names'] = ['sh1 - CH8neg','sh1 - multi','sh1 - CH6pos','sh1 - multi',\n",
    "              'sh2 - multi','sh2 - multi','sh2 - CH3neg']\n",
    "\n"
   ]
  },
  {
   "cell_type": "code",
   "execution_count": null,
   "metadata": {
    "collapsed": true
   },
   "outputs": [],
   "source": [
    "# load LFP data for active sniffing\n",
    "ACTIVE_LFP = {}\n",
    "for ii in range(len(odor_names))\n",
    "    temp_filepath = ddir + ACTIVE_LABELS[odor_names[ii]]['dfold'] + '/' + ACTIVE_LABELS[odor_names[ii]]['dfold'] + '_LFP.dat'\n",
    "    ACTIVE_LFP[odor_names[ii]] = np.fromfile(temp_filepath, dtype='float') #subsampled LFP\n",
    "    \n",
    "PASSIVE_LFP = {}\n",
    "for ii in range(len(odor_names))\n",
    "    temp_filepath = ddir + PASSIVE_LABELS[odor_names[ii]]['dfold'] + '/' + PASSIVE_LABELS[odor_names[ii]]['dfold'] + '_LFP.dat'\n",
    "    PASSIVE_LFP[odor_names[ii]] = np.fromfile(temp_filepath, dtype='float') #subsampled LFP\n",
    "\n",
    "sssf = 3000 # subsampled frequency\n",
    "# NOTE!!! Downsampling not only saves space, but is also necessary to construct filters that \n",
    "# operate in the beta range"
   ]
  },
  {
   "cell_type": "code",
   "execution_count": null,
   "metadata": {
    "collapsed": true
   },
   "outputs": [],
   "source": [
    "# Load events, extract odor periods\n",
    "eventsname = 'all_channels.events'\n",
    "filepath = ddir + dfold + '/' + eventsname\n",
    "Events = OpenEphys.loadEvents(filepath)\n",
    "odor_periods = Events['timestamps']-Events['timestamps'][0]\n",
    "odor_periods = odor_periods[2:]\n",
    "# For some odd reason the TTL pulses will sometimes duplicate a few miliseconds after eachother\n",
    "# Smooth over the duplicates by binning time in 0.3s bins\n",
    "dl = 10*np.squeeze(ssLFP.shape) # data length\n",
    "a,b = np.histogram(odor_periods,np.arange(0,dl,0.3*sf))\n",
    "b = b[1:] # The first edge is 0 so we skip it\n",
    "odor_periods = b[a>0] # index where bin count is > 1\n",
    "# For some reason the last TTL off is not saved, so I add one 3s after the last on\n",
    "odor_periods = np.hstack((odor_periods,odor_periods[-1]+3*sf))"
   ]
  },
  {
   "cell_type": "code",
   "execution_count": 4,
   "metadata": {
    "collapsed": false
   },
   "outputs": [
    {
     "data": {
      "text/plain": [
       "4"
      ]
     },
     "execution_count": 4,
     "metadata": {},
     "output_type": "execute_result"
    }
   ],
   "source": [
    "len(odor_names)"
   ]
  },
  {
   "cell_type": "code",
   "execution_count": null,
   "metadata": {
    "collapsed": true
   },
   "outputs": [],
   "source": []
  }
 ],
 "metadata": {
  "kernelspec": {
   "display_name": "Python 3",
   "language": "python",
   "name": "python3"
  },
  "language_info": {
   "codemirror_mode": {
    "name": "ipython",
    "version": 3
   },
   "file_extension": ".py",
   "mimetype": "text/x-python",
   "name": "python",
   "nbconvert_exporter": "python",
   "pygments_lexer": "ipython3",
   "version": "3.5.2"
  }
 },
 "nbformat": 4,
 "nbformat_minor": 0
}
