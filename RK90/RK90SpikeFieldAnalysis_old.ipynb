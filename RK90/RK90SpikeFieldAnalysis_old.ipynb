{
 "cells": [
  {
   "cell_type": "code",
   "execution_count": 1,
   "metadata": {
    "collapsed": true
   },
   "outputs": [],
   "source": [
    "import numpy as np\n",
    "import h5py\n",
    "import matplotlib.pyplot as plt\n",
    "%matplotlib inline\n",
    "from scipy.signal import butter, hilbert, filtfilt\n",
    "import sys\n",
    "sys.path.append('/Volumes/kaylab/Code.Repository/Python/')\n",
    "\n",
    "import OpenEphys\n",
    "\n",
    "sf = 30000\n",
    "\n",
    "ddir = '/Volumes/kaylab/DataStores/Data/BO/SiProbe/' # data directory\n",
    "# choose data folder where files are stored\n",
    "# dfold = 'RK90_2016-07-29_raw_30k_1min_S-Lim'\n",
    "# clust1 = [2,3] # 2 multiunit, 3 CH8 spike\n",
    "# clust2 = [2,3,4] # 2 multiunit, 3 CH0 spike, 4 CH10 spike\n",
    "# dfold = 'RK90_2016-07-29_raw_30k_1min_Acetone'\n",
    "dfold = 'RK90_2016-07-29_raw_30k_1min_EMB'\n",
    "clust1 = [2,3] # 2 multiunit, 3 CH8 spike\n",
    "clust2 = [2,3,4] # 2 multiunit, 3 CH0 spike, 4 CH10 spike"
   ]
  },
  {
   "cell_type": "code",
   "execution_count": null,
   "metadata": {
    "collapsed": false
   },
   "outputs": [],
   "source": [
    "# load raw LFP data\n",
    "lfpname = '102_CH2.continuous'\n",
    "filepath = ddir + dfold + '/' + lfpname\n",
    "LFP = OpenEphys.loadContinuous(filepath, dtype=float)\n",
    "LFP = LFP['data']\n",
    "ssLFP = LFP[::10].copy() #subsampled LFP\n",
    "sssf = 3000\n",
    "# NOTE!!! Filtering at beta freuqencies won't work for high sample rates!"
   ]
  },
  {
   "cell_type": "code",
   "execution_count": 2,
   "metadata": {
    "collapsed": false
   },
   "outputs": [],
   "source": [
    "# load spike times and cluster labels data from both shanks\n",
    "dfile1 = ddir + dfold + '/shank1/' + dfold + '_shank1' + '.kwik'\n",
    "with h5py.File(dfile1,'r') as D1:\n",
    "    # for viewing contents of folders\n",
    "    # dv=D1['/channel_groups/0/spikes/time_samples']\n",
    "    # for i in iter(dv):\n",
    "        # print(i)\n",
    "    time_samples1 = D1.get('/channel_groups/0/spikes/time_samples')\n",
    "    np_time_samples1 = np.array(time_samples1)\n",
    "    cluster_names1 = D1.get('/channel_groups/0/spikes/clusters/main')\n",
    "    np_cluster_names1 = np.array(cluster_names1)\n",
    "    \n",
    "dfile2 = ddir + dfold + '/shank2/' + dfold + '_shank2' + '.kwik'\n",
    "with h5py.File(dfile2,'r') as D2:\n",
    "    # for viewing contents of folders\n",
    "    # dv=D2['/channel_groups/0/spikes/clusters/main']\n",
    "    # for i in iter(dv):\n",
    "        # print(i)\n",
    "    time_samples2 = D2.get('/channel_groups/0/spikes/time_samples')\n",
    "    np_time_samples2 = np.array(time_samples2)\n",
    "    cluster_names2 = D2.get('/channel_groups/0/spikes/clusters/main')\n",
    "    np_cluster_names2 = np.array(cluster_names2)"
   ]
  },
  {
   "cell_type": "code",
   "execution_count": 11,
   "metadata": {
    "collapsed": false
   },
   "outputs": [],
   "source": [
    "# extract spikes from chosen clusters for both shanks\n",
    "SPK1 = []\n",
    "for i in range(len(clust1)):\n",
    "    temp_ind = np.squeeze(np.array(np.where(np_cluster_names1 == clust1[i])))\n",
    "    SPK1.append(np_time_samples1[temp_ind])\n",
    "\n",
    "SPK2 = []\n",
    "for i in range(len(clust2)):\n",
    "    temp_ind = np.squeeze(np.array(np.where(np_cluster_names2 == clust2[i])))\n",
    "    SPK2.append(np_time_samples2[temp_ind])\n",
    "    "
   ]
  },
  {
   "cell_type": "code",
   "execution_count": null,
   "metadata": {
    "collapsed": false
   },
   "outputs": [],
   "source": [
    "shift = 1110000\n",
    "wind = np.array(range(120000))\n",
    "plt.figure(figsize=(20,10))\n",
    "plt.plot(wind+shift,LFP[wind+shift],color='k')\n",
    "plt.xlim((wind[0]+shift,wind[-1]+shift))\n",
    "positions1 = SPK1[0]\n",
    "positions2 = SPK1[1]\n",
    "positions3 = SPK2[1]\n",
    "positions4 = SPK2[2]\n",
    "plt.eventplot(positions1, orientation='horizontal', lineoffsets=-2000, linelengths=400, \n",
    "              linewidths=3, colors='g', linestyles='solid', hold=None, data=None)\n",
    "plt.eventplot(positions2, orientation='horizontal', lineoffsets=-2500, linelengths=400, \n",
    "              linewidths=3, colors='g', linestyles='solid', hold=None, data=None)\n",
    "plt.eventplot(positions3, orientation='horizontal', lineoffsets=-3000, linelengths=400, \n",
    "              linewidths=3, colors='b', linestyles='solid', hold=None, data=None)\n",
    "plt.eventplot(positions4, orientation='horizontal', lineoffsets=-3500, linelengths=400, \n",
    "              linewidths=3, colors='b', linestyles='solid', hold=None, data=None)\n",
    "plt.axis('off')\n",
    "plt.savefig('EMBbeta&spikes1.png', bbox_inches='tight')\n"
   ]
  },
  {
   "cell_type": "code",
   "execution_count": null,
   "metadata": {
    "collapsed": false,
    "scrolled": true
   },
   "outputs": [],
   "source": [
    "shift = 1010000\n",
    "wind = np.array(range(120000))\n",
    "plt.figure(figsize=(20,10))\n",
    "plt.plot(wind+shift,LFP[wind+shift],color='k')\n",
    "plt.xlim((wind[0]+shift,wind[-1]+shift))\n",
    "positions1 = SPK1[0]\n",
    "positions2 = SPK1[1]\n",
    "positions3 = SPK2[1]\n",
    "positions4 = SPK2[2]\n",
    "plt.eventplot(positions1, orientation='horizontal', lineoffsets=-2000, linelengths=400, \n",
    "              linewidths=3, colors='g', linestyles='solid', hold=None, data=None)\n",
    "plt.eventplot(positions2, orientation='horizontal', lineoffsets=-2500, linelengths=400, \n",
    "              linewidths=3, colors='g', linestyles='solid', hold=None, data=None)\n",
    "plt.eventplot(positions3, orientation='horizontal', lineoffsets=-3000, linelengths=400, \n",
    "              linewidths=3, colors='b', linestyles='solid', hold=None, data=None)\n",
    "plt.eventplot(positions4, orientation='horizontal', lineoffsets=-3500, linelengths=400, \n",
    "              linewidths=3, colors='b', linestyles='solid', hold=None, data=None)\n",
    "plt.axis('off')\n",
    "plt.savefig('EMBbeta&spikes2.png', bbox_inches='tight')\n"
   ]
  },
  {
   "cell_type": "code",
   "execution_count": null,
   "metadata": {
    "collapsed": false
   },
   "outputs": [],
   "source": [
    "shift = 80000\n",
    "wind = np.array(range(90000))\n",
    "plt.figure(figsize=(20,10))\n",
    "plt.plot(wind+shift,LFP[wind+shift],color='k')\n",
    "plt.xlim((wind[0]+shift,wind[-1]+shift))\n",
    "positions1 = SPK1[0]\n",
    "positions2 = SPK1[1]\n",
    "positions3 = SPK2[1]\n",
    "positions4 = SPK2[2]\n",
    "plt.eventplot(positions1, orientation='horizontal', lineoffsets=-2000, linelengths=400, \n",
    "              linewidths=3, colors='g', linestyles='solid', hold=None, data=None)\n",
    "plt.eventplot(positions2, orientation='horizontal', lineoffsets=-2500, linelengths=400, \n",
    "              linewidths=3, colors='g', linestyles='solid', hold=None, data=None)\n",
    "plt.eventplot(positions3, orientation='horizontal', lineoffsets=-3000, linelengths=400, \n",
    "              linewidths=3, colors='b', linestyles='solid', hold=None, data=None)\n",
    "plt.eventplot(positions4, orientation='horizontal', lineoffsets=-3500, linelengths=400, \n",
    "              linewidths=3, colors='b', linestyles='solid', hold=None, data=None)\n",
    "plt.axis('off')\n",
    "plt.savefig('EMBbeta&spikes3.png', bbox_inches='tight')"
   ]
  },
  {
   "cell_type": "code",
   "execution_count": null,
   "metadata": {
    "collapsed": false
   },
   "outputs": [],
   "source": [
    "# beta filtered LFP envelope with Butterworth filter\n",
    "nyq = 0.5 * sssf\n",
    "low = 10 / nyq\n",
    "high = 33 / nyq\n",
    "# WTF! http://stackoverflow.com/questions/8811518/scipy-lfilter-returns-only-nans\n",
    "order = 4\n",
    "b, a = butter(order, [low, high], btype='bandpass')\n",
    "LFPb = filtfilt(b, a, ssLFP)\n",
    "\n",
    "# Amplitude of analytic signal is the envelope\n",
    "hilbLFPb = hilbert(LFPb)\n",
    "LFPb_env = np.abs(hilbLFPb)\n",
    "# The instantaneous phase corresponds to the phase angle of the analytic signal\n",
    "LFPb_ph = np.unwrap(np.angle(hilbLFPb))\n",
    "\n",
    "\n",
    "shift = 111000\n",
    "wind = np.array(range(12000))\n",
    "plt.figure(figsize=(20,10))\n",
    "plt.plot(wind+shift,ssLFP[wind+shift],color='k')\n",
    "plt.plot(wind+shift,LFPb[wind+shift],color='r')\n",
    "plt.plot(wind+shift,LFPb_env[wind+shift],color='b')\n",
    "plt.xlim((wind[0]+shift,wind[-1]+shift))\n"
   ]
  },
  {
   "cell_type": "code",
   "execution_count": 12,
   "metadata": {
    "collapsed": false
   },
   "outputs": [
    {
     "name": "stdout",
     "output_type": "stream",
     "text": [
      "Variable            Type        Data/Info\n",
      "-----------------------------------------\n",
      "D1                  File        <Closed HDF5 file>\n",
      "D2                  File        <Closed HDF5 file>\n",
      "OpenEphys           module      <module 'OpenEphys' from <...>ory/Python/OpenEphys.py'>\n",
      "SPK1                list        n=2\n",
      "SPK2                list        n=3\n",
      "butter              function    <function butter at 0x10b92cb70>\n",
      "clust1              list        n=2\n",
      "clust2              list        n=3\n",
      "cluster_names1      Dataset     <Closed HDF5 dataset>\n",
      "cluster_names2      Dataset     <Closed HDF5 dataset>\n",
      "ddir                str         /Volumes/kaylab-1/DataStores/Data/BO/SiProbe/\n",
      "dfile1              str         /Volumes/kaylab-1/DataSto<...>_30k_1min_EMB_shank1.kwik\n",
      "dfile2              str         /Volumes/kaylab-1/DataSto<...>_30k_1min_EMB_shank2.kwik\n",
      "dfold               str         RK90_2016-07-29_raw_30k_1min_EMB\n",
      "filtfilt            function    <function filtfilt at 0x10b95e620>\n",
      "h5py                module      <module 'h5py' from '//an<...>ckages/h5py/__init__.py'>\n",
      "hilbert             function    <function hilbert at 0x10b952e18>\n",
      "i                   int         2\n",
      "np                  module      <module 'numpy' from '//a<...>kages/numpy/__init__.py'>\n",
      "np_cluster_names1   ndarray     591: 591 elems, type `int32`, 2364 bytes\n",
      "np_cluster_names2   ndarray     830: 830 elems, type `int32`, 3320 bytes\n",
      "np_time_samples1    ndarray     591: 591 elems, type `uint64`, 4728 bytes\n",
      "np_time_samples2    ndarray     830: 830 elems, type `uint64`, 6640 bytes\n",
      "plt                 module      <module 'matplotlib.pyplo<...>es/matplotlib/pyplot.py'>\n",
      "sf                  int         30000\n",
      "sys                 module      <module 'sys' (built-in)>\n",
      "temp_ind            ndarray     584: 584 elems, type `int64`, 4672 bytes\n",
      "time_samples1       Dataset     <Closed HDF5 dataset>\n",
      "time_samples2       Dataset     <Closed HDF5 dataset>\n"
     ]
    }
   ],
   "source": [
    "whos"
   ]
  },
  {
   "cell_type": "code",
   "execution_count": null,
   "metadata": {
    "collapsed": false
   },
   "outputs": [],
   "source": [
    "# FIR filter with least squares minimization tends to give better result (fast drop off) \n",
    "# for narrow bandpass filtering at beta frequencies than the IIR filters (butterowrth, chebyshev, etc..)\n",
    "import numpy as np\n",
    "from scipy import signal\n",
    "from scipy.signal import freqz\n",
    "from scipy.signal import butter, hilbert, filtfilt\n",
    "import matplotlib.pyplot as plt\n",
    "%matplotlib inline\n",
    "\n",
    "# Design FIR filter\n",
    "nyq = nyq = 0.5 * sssf\n",
    "bands = [0,9,10,35,36,nyq]# pass band is bands[2:4]?\n",
    "desired = (0, 0, 1, 1, 0, 0)\n",
    "fir_firwin2_1001 = signal.firwin2(1001, bands, desired, nyq=nyq)\n",
    "wfir_1001, hfir_1001 = freqz(fir_firwin2_1001)\n",
    "fir_firwin2_3001 = signal.firwin2(3001, bands, desired, nyq=nyq)\n",
    "wfir_3001, hfir_3001 = freqz(fir_firwin2_3001)\n",
    "\n",
    "# Design Buttterworth filters and plot with FIR\n",
    "low = 10 / nyq\n",
    "high = 35 / nyq\n",
    "from scipy.signal import freqz\n",
    "\n",
    "for order in [2, 4, 6]:\n",
    "    b, a = butter(order,[low, high], btype='band')\n",
    "    wbw, hbw = freqz(b, a, worN=2000)\n",
    "    plt.plot((sssf * 0.5 / np.pi) * wbw, abs(hbw), label=\"BWorder = %d\" % order)\n",
    "plt.plot(nyq*wfir_1001/(np.pi), np.abs(hfir_1001),label='FIRn = 1001')\n",
    "plt.plot(nyq*wfir_3001/(np.pi), np.abs(hfir_3001),label='FIRn = 3001')\n",
    "plt.xlabel('Frequency (Hz)')\n",
    "plt.xlim((0,50))\n",
    "plt.ylabel('Gain')\n",
    "plt.grid(True)\n",
    "plt.legend(loc='best')\n",
    "plt.title('Band-pass 15-35 Hz')\n",
    "\n"
   ]
  },
  {
   "cell_type": "code",
   "execution_count": null,
   "metadata": {
    "collapsed": false
   },
   "outputs": [],
   "source": [
    "# beta filtered LFP envelope with FIR filter\n",
    "nyq = nyq = 0.5 * sssf\n",
    "bands = [0,9,10,35,36,nyq]# pass band is bands[2:4]?\n",
    "desired = (0, 0, 1, 1, 0, 0)\n",
    "fir_firwin2_3001 = signal.firwin2(3001, bands, desired, nyq=nyq)\n",
    "LFPb = filtfilt(fir_firwin2_3001, [1.0], ssLFP)\n",
    "\n",
    "# Amplitude of analytic signal is the envelope\n",
    "hilbLFPb = hilbert(LFPb)\n",
    "LFPb_env = np.abs(hilbLFPb)\n",
    "# The instantaneous phase corresponds to the phase angle of the analytic signal\n",
    "LFPb_ph = np.unwrap(np.angle(hilbLFPb))\n",
    "\n",
    "\n",
    "shift = 111000\n",
    "wind = np.array(range(12000))\n",
    "plt.figure(figsize=(20,10))\n",
    "plt.plot(wind+shift,ssLFP[wind+shift],color='k')\n",
    "plt.plot(wind+shift,LFPb[wind+shift],color='r')\n",
    "plt.plot(wind+shift,LFPb_env[wind+shift],color='b')\n",
    "plt.xlim((wind[0]+shift,wind[-1]+shift))\n",
    "\n",
    "# NOTE:\n",
    "# FIR and Butterworth filters produce near identical results, but Butterworth is faster"
   ]
  },
  {
   "cell_type": "code",
   "execution_count": null,
   "metadata": {
    "collapsed": false
   },
   "outputs": [],
   "source": [
    "# Multiply spike sample times by beta envelope to determine basic spike field correlation\n",
    "\n",
    "SPK1_LFPb_env = []\n",
    "for i in range(len(clust1)):\n",
    "    # spike sample times must be subsampled and rounded to index ssLFP envelope\n",
    "    ssinds = np.rint(0.1*np.array(SPK1[i][0])) # round to nearest integer\n",
    "    ssinds = ssinds.astype(int) # convert type to int\n",
    "    SPK1_LFPb_env.append(LFPb_env[ssinds])\n",
    "    \n",
    "SPK2_LFPb_env = []\n",
    "for i in range(len(clust2)):\n",
    "    # spike sample times must be subsampled and rounded to index ssLFP envelope\n",
    "    ssinds = np.rint(0.1*np.array(SPK2[i][0])) # round to nearest integer\n",
    "    ssinds = ssinds.astype(int) # convert type to int\n",
    "    SPK2_LFPb_env.append(LFPb_env[ssinds])\n",
    "\n",
    "# Do the same for randomly generated spikes as a control\n",
    "RND1_LFPb_env = []\n",
    "for i in range(len(clust1)):\n",
    "    randinds = np.array(ssLFP.shape)*np.random.sample(np.array(SPK1[i][0].shape))\n",
    "    randinds = randinds.astype(int) # convert type to int\n",
    "    RND1_LFPb_env.append(LFPb_env[randinds])\n",
    "    \n",
    "RND2_LFPb_env = []\n",
    "for i in range(len(clust2)):\n",
    "    randinds = np.array(ssLFP.shape)*np.random.sample(np.array(SPK2[i][0].shape))\n",
    "    randinds = randinds.astype(int) # convert type to int\n",
    "    RND2_LFPb_env.append(LFPb_env[randinds])\n"
   ]
  },
  {
   "cell_type": "code",
   "execution_count": null,
   "metadata": {
    "collapsed": false
   },
   "outputs": [],
   "source": [
    "# Visualize spike field correlations\n",
    "nbins = 50\n",
    "plt.figure(figsize=(7,7))\n",
    "plt.subplot(2,1,1)\n",
    "plt.hist(SPK1_LFPb_env[0], nbins, alpha=0.5, label='shank1 - multi')\n",
    "plt.hist(RND1_LFPb_env[0], nbins, alpha=0.5, label='random')\n",
    "plt.legend(loc='best')\n",
    "plt.subplot(2,1,2)\n",
    "plt.hist(SPK1_LFPb_env[1], nbins, alpha=0.5, label='shank1 - CH8')\n",
    "plt.hist(RND1_LFPb_env[1], nbins, alpha=0.5, label='random')\n",
    "plt.legend(loc='best')\n",
    "\n",
    "nbins = 50\n",
    "plt.figure(figsize=(7,7))\n",
    "plt.subplot(3,1,1)\n",
    "plt.hist(SPK2_LFPb_env[0], nbins, alpha=0.5, label='shank2 - multi')\n",
    "plt.hist(RND2_LFPb_env[0], nbins, alpha=0.5, label='random')\n",
    "plt.legend(loc='best')\n",
    "plt.subplot(3,1,2)\n",
    "plt.hist(SPK2_LFPb_env[1], nbins, alpha=0.5, label='shank2 - CH0')\n",
    "plt.hist(RND2_LFPb_env[1], nbins, alpha=0.5, label='random')\n",
    "plt.legend(loc='best')\n",
    "plt.subplot(3,1,3)\n",
    "plt.hist(SPK2_LFPb_env[2], nbins, alpha=0.5, label='shank2 - CH10')\n",
    "plt.hist(RND2_LFPb_env[2], nbins, alpha=0.5, label='random')\n",
    "plt.legend(loc='best')\n"
   ]
  },
  {
   "cell_type": "code",
   "execution_count": null,
   "metadata": {
    "collapsed": false
   },
   "outputs": [],
   "source": [
    "ssinds = int(0.1*np.array(SPK1[0][0]))\n",
    "print(ssinds)"
   ]
  },
  {
   "cell_type": "code",
   "execution_count": null,
   "metadata": {
    "collapsed": false
   },
   "outputs": [],
   "source": [
    "\n",
    "yo=np.array(ssLFP.shape)*np.random.sample(np.array(SPK1[0][0].shape))\n",
    "plt.hist(yo,100)\n"
   ]
  },
  {
   "cell_type": "code",
   "execution_count": null,
   "metadata": {
    "collapsed": false
   },
   "outputs": [],
   "source": [
    "np.array(SPK1[0][0].shape)"
   ]
  },
  {
   "cell_type": "code",
   "execution_count": null,
   "metadata": {
    "collapsed": false
   },
   "outputs": [],
   "source": [
    "ssLFP.shape"
   ]
  },
  {
   "cell_type": "code",
   "execution_count": null,
   "metadata": {
    "collapsed": false
   },
   "outputs": [],
   "source": [
    "str(675.4)"
   ]
  },
  {
   "cell_type": "code",
   "execution_count": null,
   "metadata": {
    "collapsed": true
   },
   "outputs": [],
   "source": [
    "sssf = 3000"
   ]
  },
  {
   "cell_type": "code",
   "execution_count": 17,
   "metadata": {
    "collapsed": false
   },
   "outputs": [
    {
     "data": {
      "text/plain": [
       "101728"
      ]
     },
     "execution_count": 17,
     "metadata": {},
     "output_type": "execute_result"
    }
   ],
   "source": [
    "SPK1[1]"
   ]
  },
  {
   "cell_type": "code",
   "execution_count": null,
   "metadata": {
    "collapsed": true
   },
   "outputs": [],
   "source": []
  }
 ],
 "metadata": {
  "kernelspec": {
   "display_name": "Python 3",
   "language": "python",
   "name": "python3"
  },
  "language_info": {
   "codemirror_mode": {
    "name": "ipython",
    "version": 3
   },
   "file_extension": ".py",
   "mimetype": "text/x-python",
   "name": "python",
   "nbconvert_exporter": "python",
   "pygments_lexer": "ipython3",
   "version": "3.5.2"
  }
 },
 "nbformat": 4,
 "nbformat_minor": 0
}
